{
 "cells": [
  {
   "cell_type": "code",
   "execution_count": 1,
   "metadata": {},
   "outputs": [],
   "source": [
    "import pandas as pd \n",
    "import numpy as np \n",
    "import matplotlib.pyplot as plt\n",
    "import seaborn as sns \n",
    "from tqdm.notebook import tqdm\n",
    "from IPython.display import clear_output\n",
    "import dataframe_image as dfi\n",
    "\n",
    "from sklearn.model_selection import train_test_split\n",
    "from sklearn.preprocessing import StandardScaler\n",
    "from sklearn.linear_model import LogisticRegression, SGDClassifier\n",
    "from sklearn.svm import SVC, LinearSVC\n",
    "import keras\n",
    "from keras.layers import Input, Dense, Flatten\n",
    "from keras.models import Sequential \n",
    "from keras import optimizers\n",
    "\n",
    "from azure.storage.blob import BlobClient\n",
    "from io import StringIO"
   ]
  },
  {
   "cell_type": "markdown",
   "metadata": {},
   "source": [
    "## Data & preprocessing"
   ]
  },
  {
   "cell_type": "code",
   "execution_count": 2,
   "metadata": {},
   "outputs": [
    {
     "name": "stderr",
     "output_type": "stream",
     "text": [
      "c:\\python38\\lib\\site-packages\\IPython\\core\\interactiveshell.py:3145: DtypeWarning: Columns (4,6,31,33,61,62,63,76,79,90,92,94,96,114,115,121) have mixed types.Specify dtype option on import or set low_memory=False.\n",
      "  has_raised = await self.run_ast_nodes(code_ast.body, cell_name,\n"
     ]
    }
   ],
   "source": [
    "constr = \"DefaultEndpointsProtocol=https;AccountName=fysstk4155;AccountKey=uFpl4Qc0lIhE8bwHMH80mhsleq0kg7pW/TW8/KzsQY5+QULWfimUXuYasCBYXtID7BTfG98m6zGSJCxSFpdXvw==;BlobEndpoint=https://fysstk4155.blob.core.windows.net/;QueueEndpoint=https://fysstk4155.queue.core.windows.net/;TableEndpoint=https://fysstk4155.table.core.windows.net/;FileEndpoint=https://fysstk4155.file.core.windows.net/;\"\n",
    "blob = BlobClient.from_connection_string(constr, container_name=\"project3\", blob_name=\"globalterrorismdb_0718dist.csv\")\n",
    "file = StringIO(blob.download_blob().content_as_text(encoding=\"latin1\"))\n",
    "df = pd.read_csv(file)"
   ]
  },
  {
   "cell_type": "code",
   "execution_count": 3,
   "metadata": {},
   "outputs": [
    {
     "data": {
      "text/html": [
       "<div>\n",
       "<style scoped>\n",
       "    .dataframe tbody tr th:only-of-type {\n",
       "        vertical-align: middle;\n",
       "    }\n",
       "\n",
       "    .dataframe tbody tr th {\n",
       "        vertical-align: top;\n",
       "    }\n",
       "\n",
       "    .dataframe thead th {\n",
       "        text-align: right;\n",
       "    }\n",
       "</style>\n",
       "<table border=\"1\" class=\"dataframe\">\n",
       "  <thead>\n",
       "    <tr style=\"text-align: right;\">\n",
       "      <th></th>\n",
       "      <th>eventid</th>\n",
       "      <th>iyear</th>\n",
       "      <th>imonth</th>\n",
       "      <th>iday</th>\n",
       "      <th>approxdate</th>\n",
       "      <th>extended</th>\n",
       "      <th>resolution</th>\n",
       "      <th>country</th>\n",
       "      <th>country_txt</th>\n",
       "      <th>region</th>\n",
       "      <th>...</th>\n",
       "      <th>addnotes</th>\n",
       "      <th>scite1</th>\n",
       "      <th>scite2</th>\n",
       "      <th>scite3</th>\n",
       "      <th>dbsource</th>\n",
       "      <th>INT_LOG</th>\n",
       "      <th>INT_IDEO</th>\n",
       "      <th>INT_MISC</th>\n",
       "      <th>INT_ANY</th>\n",
       "      <th>related</th>\n",
       "    </tr>\n",
       "  </thead>\n",
       "  <tbody>\n",
       "    <tr>\n",
       "      <th>0</th>\n",
       "      <td>197000000001</td>\n",
       "      <td>1970</td>\n",
       "      <td>7</td>\n",
       "      <td>2</td>\n",
       "      <td>NaN</td>\n",
       "      <td>0</td>\n",
       "      <td>NaN</td>\n",
       "      <td>58</td>\n",
       "      <td>Dominican Republic</td>\n",
       "      <td>2</td>\n",
       "      <td>...</td>\n",
       "      <td>NaN</td>\n",
       "      <td>NaN</td>\n",
       "      <td>NaN</td>\n",
       "      <td>NaN</td>\n",
       "      <td>PGIS</td>\n",
       "      <td>0</td>\n",
       "      <td>0</td>\n",
       "      <td>0</td>\n",
       "      <td>0</td>\n",
       "      <td>NaN</td>\n",
       "    </tr>\n",
       "    <tr>\n",
       "      <th>1</th>\n",
       "      <td>197000000002</td>\n",
       "      <td>1970</td>\n",
       "      <td>0</td>\n",
       "      <td>0</td>\n",
       "      <td>NaN</td>\n",
       "      <td>0</td>\n",
       "      <td>NaN</td>\n",
       "      <td>130</td>\n",
       "      <td>Mexico</td>\n",
       "      <td>1</td>\n",
       "      <td>...</td>\n",
       "      <td>NaN</td>\n",
       "      <td>NaN</td>\n",
       "      <td>NaN</td>\n",
       "      <td>NaN</td>\n",
       "      <td>PGIS</td>\n",
       "      <td>0</td>\n",
       "      <td>1</td>\n",
       "      <td>1</td>\n",
       "      <td>1</td>\n",
       "      <td>NaN</td>\n",
       "    </tr>\n",
       "    <tr>\n",
       "      <th>2</th>\n",
       "      <td>197001000001</td>\n",
       "      <td>1970</td>\n",
       "      <td>1</td>\n",
       "      <td>0</td>\n",
       "      <td>NaN</td>\n",
       "      <td>0</td>\n",
       "      <td>NaN</td>\n",
       "      <td>160</td>\n",
       "      <td>Philippines</td>\n",
       "      <td>5</td>\n",
       "      <td>...</td>\n",
       "      <td>NaN</td>\n",
       "      <td>NaN</td>\n",
       "      <td>NaN</td>\n",
       "      <td>NaN</td>\n",
       "      <td>PGIS</td>\n",
       "      <td>-9</td>\n",
       "      <td>-9</td>\n",
       "      <td>1</td>\n",
       "      <td>1</td>\n",
       "      <td>NaN</td>\n",
       "    </tr>\n",
       "    <tr>\n",
       "      <th>3</th>\n",
       "      <td>197001000002</td>\n",
       "      <td>1970</td>\n",
       "      <td>1</td>\n",
       "      <td>0</td>\n",
       "      <td>NaN</td>\n",
       "      <td>0</td>\n",
       "      <td>NaN</td>\n",
       "      <td>78</td>\n",
       "      <td>Greece</td>\n",
       "      <td>8</td>\n",
       "      <td>...</td>\n",
       "      <td>NaN</td>\n",
       "      <td>NaN</td>\n",
       "      <td>NaN</td>\n",
       "      <td>NaN</td>\n",
       "      <td>PGIS</td>\n",
       "      <td>-9</td>\n",
       "      <td>-9</td>\n",
       "      <td>1</td>\n",
       "      <td>1</td>\n",
       "      <td>NaN</td>\n",
       "    </tr>\n",
       "    <tr>\n",
       "      <th>4</th>\n",
       "      <td>197001000003</td>\n",
       "      <td>1970</td>\n",
       "      <td>1</td>\n",
       "      <td>0</td>\n",
       "      <td>NaN</td>\n",
       "      <td>0</td>\n",
       "      <td>NaN</td>\n",
       "      <td>101</td>\n",
       "      <td>Japan</td>\n",
       "      <td>4</td>\n",
       "      <td>...</td>\n",
       "      <td>NaN</td>\n",
       "      <td>NaN</td>\n",
       "      <td>NaN</td>\n",
       "      <td>NaN</td>\n",
       "      <td>PGIS</td>\n",
       "      <td>-9</td>\n",
       "      <td>-9</td>\n",
       "      <td>1</td>\n",
       "      <td>1</td>\n",
       "      <td>NaN</td>\n",
       "    </tr>\n",
       "  </tbody>\n",
       "</table>\n",
       "<p>5 rows × 135 columns</p>\n",
       "</div>"
      ],
      "text/plain": [
       "        eventid  iyear  imonth  iday approxdate  extended resolution  country  \\\n",
       "0  197000000001   1970       7     2        NaN         0        NaN       58   \n",
       "1  197000000002   1970       0     0        NaN         0        NaN      130   \n",
       "2  197001000001   1970       1     0        NaN         0        NaN      160   \n",
       "3  197001000002   1970       1     0        NaN         0        NaN       78   \n",
       "4  197001000003   1970       1     0        NaN         0        NaN      101   \n",
       "\n",
       "          country_txt  region  ... addnotes scite1 scite2  scite3  dbsource  \\\n",
       "0  Dominican Republic       2  ...      NaN    NaN    NaN     NaN      PGIS   \n",
       "1              Mexico       1  ...      NaN    NaN    NaN     NaN      PGIS   \n",
       "2         Philippines       5  ...      NaN    NaN    NaN     NaN      PGIS   \n",
       "3              Greece       8  ...      NaN    NaN    NaN     NaN      PGIS   \n",
       "4               Japan       4  ...      NaN    NaN    NaN     NaN      PGIS   \n",
       "\n",
       "   INT_LOG  INT_IDEO INT_MISC INT_ANY  related  \n",
       "0        0         0        0       0      NaN  \n",
       "1        0         1        1       1      NaN  \n",
       "2       -9        -9        1       1      NaN  \n",
       "3       -9        -9        1       1      NaN  \n",
       "4       -9        -9        1       1      NaN  \n",
       "\n",
       "[5 rows x 135 columns]"
      ]
     },
     "execution_count": 3,
     "metadata": {},
     "output_type": "execute_result"
    }
   ],
   "source": [
    "# df = pd.read_csv(\"globalterrorismdb_0718dist.csv\",encoding=\"latin1\")\n",
    "\n",
    "df.head()"
   ]
  },
  {
   "cell_type": "code",
   "execution_count": 4,
   "metadata": {},
   "outputs": [
    {
     "data": {
      "text/plain": [
       "(181691, 135)"
      ]
     },
     "execution_count": 4,
     "metadata": {},
     "output_type": "execute_result"
    }
   ],
   "source": [
    "df.shape"
   ]
  },
  {
   "cell_type": "code",
   "execution_count": 5,
   "metadata": {},
   "outputs": [],
   "source": [
    "df_reduced = df[[\"iyear\",\"imonth\",\"iday\",\"extended\",\n",
    "  \"doubtterr\",\"alternative\",\"alternative_txt\",\"multiple\",\n",
    "   \"country\",\"country_txt\",\"region\",\"region_txt\",\"latitude\",\"longitude\",\"specificity\",\n",
    "    \"attacktype1\",\"attacktype1_txt\",\"attacktype2\",\"attacktype2_txt\",\"attacktype3\",\"attacktype3_txt\",\"success\",\"suicide\",\n",
    "    \"weaptype1\",\"weaptype1_txt\",\"weapsubtype1\",\"weapsubtype1_txt\",\n",
    "    \"targtype1\",\"targtype1_txt\",\"targsubtype1\",\"targsubtype1_txt\",\"natlty1\",\"natlty1_txt\",\n",
    "    \"guncertain1\",\"individual\",\"nperps\",\n",
    "    \"nkill\",\"nwound\",\"property\",\"propvalue\",\"ishostkid\",\"nhostkid\",\n",
    "    \"INT_LOG\",\"INT_IDEO\",\"INT_MISC\" \n",
    "  ]]"
   ]
  },
  {
   "cell_type": "code",
   "execution_count": 6,
   "metadata": {},
   "outputs": [],
   "source": [
    "df_reduced_txt = df_reduced[[\"alternative_txt\",\"country_txt\",\"region_txt\",\n",
    "                             \"attacktype1_txt\",\"attacktype2_txt\",\"attacktype3_txt\",\n",
    "                             \"weaptype1_txt\",\"weapsubtype1_txt\",\n",
    "                             \"targtype1_txt\",\"targsubtype1_txt\",\"natlty1_txt\",\n",
    "                             ]]"
   ]
  },
  {
   "cell_type": "code",
   "execution_count": 7,
   "metadata": {},
   "outputs": [],
   "source": [
    "df_reduced = df_reduced.drop(df_reduced_txt.columns,axis=1)\n"
   ]
  },
  {
   "cell_type": "code",
   "execution_count": 8,
   "metadata": {},
   "outputs": [
    {
     "data": {
      "text/plain": [
       "(181691, 34)"
      ]
     },
     "execution_count": 8,
     "metadata": {},
     "output_type": "execute_result"
    }
   ],
   "source": [
    "df_reduced.shape"
   ]
  },
  {
   "cell_type": "code",
   "execution_count": 9,
   "metadata": {},
   "outputs": [
    {
     "data": {
      "text/plain": [
       "attacktype3        428\n",
       "attacktype2       6314\n",
       "nhostkid         13572\n",
       "alternative      29011\n",
       "propvalue        38989\n",
       "nperps          110576\n",
       "weapsubtype1    160923\n",
       "nwound          165380\n",
       "targsubtype1    171318\n",
       "nkill           171378\n",
       "longitude       177134\n",
       "latitude        177135\n",
       "natlty1         180132\n",
       "guncertain1     181311\n",
       "ishostkid       181513\n",
       "specificity     181685\n",
       "multiple        181690\n",
       "doubtterr       181690\n",
       "property        181691\n",
       "individual      181691\n",
       "INT_LOG         181691\n",
       "iyear           181691\n",
       "suicide         181691\n",
       "weaptype1       181691\n",
       "INT_IDEO        181691\n",
       "success         181691\n",
       "attacktype1     181691\n",
       "region          181691\n",
       "country         181691\n",
       "extended        181691\n",
       "iday            181691\n",
       "imonth          181691\n",
       "targtype1       181691\n",
       "INT_MISC        181691\n",
       "dtype: int64"
      ]
     },
     "execution_count": 9,
     "metadata": {},
     "output_type": "execute_result"
    }
   ],
   "source": [
    "df_reduced.count().sort_values()"
   ]
  },
  {
   "cell_type": "markdown",
   "metadata": {},
   "source": [
    "Creating a new features for multiple attack types, 1 if more than one attack type else 0. \\\n",
    "Removes attacktype2 and attacktype3. "
   ]
  },
  {
   "cell_type": "code",
   "execution_count": 10,
   "metadata": {},
   "outputs": [],
   "source": [
    "df_reduced[\"multitypeattack\"] = 0 \n",
    "condition1 = df_reduced[\"attacktype2\"].notna()\n",
    "condition2 = df_reduced[\"attacktype3\"].notna()\n",
    "df_reduced.loc[condition1|condition2,\"multitypeattack\"] = 1 \n",
    "df_reduced = df_reduced.drop([\"attacktype2\",\"attacktype3\"],axis=1)"
   ]
  },
  {
   "cell_type": "markdown",
   "metadata": {},
   "source": [
    "Sorting for incidents after 1997. \\\n",
    "Removing 3 features with a lot of missing values"
   ]
  },
  {
   "cell_type": "code",
   "execution_count": 11,
   "metadata": {},
   "outputs": [],
   "source": [
    "df_reduced = df_reduced.loc[df_reduced.iyear > 1997]\n",
    "df_reduced = df_reduced.drop([\"nhostkid\",\"alternative\",\"propvalue\"],axis=1)\n",
    "df_reduced = df_reduced.drop(\"weapsubtype1\",axis=1)\n",
    "df_reduced = df_reduced.drop(\"targsubtype1\",axis=1)"
   ]
  },
  {
   "cell_type": "code",
   "execution_count": 12,
   "metadata": {},
   "outputs": [
    {
     "data": {
      "text/plain": [
       "(114184, 28)"
      ]
     },
     "execution_count": 12,
     "metadata": {},
     "output_type": "execute_result"
    }
   ],
   "source": [
    "df_reduced.shape"
   ]
  },
  {
   "cell_type": "markdown",
   "metadata": {},
   "source": [
    "Exploring still missing values"
   ]
  },
  {
   "cell_type": "code",
   "execution_count": 13,
   "metadata": {},
   "outputs": [
    {
     "data": {
      "text/plain": [
       "nperps        -13166\n",
       "nwound         -8232\n",
       "nkill          -4280\n",
       "natlty1        -1126\n",
       "latitude        -934\n",
       "longitude       -934\n",
       "guncertain1     -380\n",
       "specificity       -6\n",
       "ishostkid         -3\n",
       "doubtterr         -1\n",
       "multiple          -1\n",
       "dtype: int64"
      ]
     },
     "execution_count": 13,
     "metadata": {},
     "output_type": "execute_result"
    }
   ],
   "source": [
    "df_reduced.count().sort_values()[df_reduced.count().sort_values() != 114184] - 114184"
   ]
  },
  {
   "cell_type": "code",
   "execution_count": 14,
   "metadata": {},
   "outputs": [
    {
     "data": {
      "text/html": [
       "<div>\n",
       "<style scoped>\n",
       "    .dataframe tbody tr th:only-of-type {\n",
       "        vertical-align: middle;\n",
       "    }\n",
       "\n",
       "    .dataframe tbody tr th {\n",
       "        vertical-align: top;\n",
       "    }\n",
       "\n",
       "    .dataframe thead th {\n",
       "        text-align: right;\n",
       "    }\n",
       "</style>\n",
       "<table border=\"1\" class=\"dataframe\">\n",
       "  <thead>\n",
       "    <tr style=\"text-align: right;\">\n",
       "      <th></th>\n",
       "      <th>nperps</th>\n",
       "      <th>nwound</th>\n",
       "      <th>nkill</th>\n",
       "      <th>natlty1</th>\n",
       "      <th>latitude</th>\n",
       "      <th>longitude</th>\n",
       "      <th>guncertain1</th>\n",
       "      <th>specificity</th>\n",
       "      <th>ishostkid</th>\n",
       "      <th>doubtterr</th>\n",
       "      <th>multiple</th>\n",
       "    </tr>\n",
       "  </thead>\n",
       "  <tbody>\n",
       "    <tr>\n",
       "      <th>67507</th>\n",
       "      <td>100.0</td>\n",
       "      <td>6.0</td>\n",
       "      <td>104.0</td>\n",
       "      <td>34.0</td>\n",
       "      <td>-3.375828</td>\n",
       "      <td>29.364107</td>\n",
       "      <td>0.0</td>\n",
       "      <td>1.0</td>\n",
       "      <td>0.0</td>\n",
       "      <td>1.0</td>\n",
       "      <td>0.0</td>\n",
       "    </tr>\n",
       "    <tr>\n",
       "      <th>67508</th>\n",
       "      <td>NaN</td>\n",
       "      <td>3.0</td>\n",
       "      <td>0.0</td>\n",
       "      <td>167.0</td>\n",
       "      <td>55.751377</td>\n",
       "      <td>37.579914</td>\n",
       "      <td>0.0</td>\n",
       "      <td>1.0</td>\n",
       "      <td>0.0</td>\n",
       "      <td>0.0</td>\n",
       "      <td>0.0</td>\n",
       "    </tr>\n",
       "    <tr>\n",
       "      <th>67509</th>\n",
       "      <td>NaN</td>\n",
       "      <td>0.0</td>\n",
       "      <td>1.0</td>\n",
       "      <td>233.0</td>\n",
       "      <td>54.607712</td>\n",
       "      <td>-5.956210</td>\n",
       "      <td>0.0</td>\n",
       "      <td>1.0</td>\n",
       "      <td>0.0</td>\n",
       "      <td>0.0</td>\n",
       "      <td>0.0</td>\n",
       "    </tr>\n",
       "    <tr>\n",
       "      <th>67510</th>\n",
       "      <td>NaN</td>\n",
       "      <td>0.0</td>\n",
       "      <td>0.0</td>\n",
       "      <td>999.0</td>\n",
       "      <td>33.303566</td>\n",
       "      <td>44.371773</td>\n",
       "      <td>0.0</td>\n",
       "      <td>1.0</td>\n",
       "      <td>0.0</td>\n",
       "      <td>0.0</td>\n",
       "      <td>0.0</td>\n",
       "    </tr>\n",
       "    <tr>\n",
       "      <th>67511</th>\n",
       "      <td>NaN</td>\n",
       "      <td>1.0</td>\n",
       "      <td>0.0</td>\n",
       "      <td>97.0</td>\n",
       "      <td>31.995965</td>\n",
       "      <td>35.271110</td>\n",
       "      <td>0.0</td>\n",
       "      <td>4.0</td>\n",
       "      <td>0.0</td>\n",
       "      <td>0.0</td>\n",
       "      <td>0.0</td>\n",
       "    </tr>\n",
       "    <tr>\n",
       "      <th>...</th>\n",
       "      <td>...</td>\n",
       "      <td>...</td>\n",
       "      <td>...</td>\n",
       "      <td>...</td>\n",
       "      <td>...</td>\n",
       "      <td>...</td>\n",
       "      <td>...</td>\n",
       "      <td>...</td>\n",
       "      <td>...</td>\n",
       "      <td>...</td>\n",
       "      <td>...</td>\n",
       "    </tr>\n",
       "    <tr>\n",
       "      <th>181686</th>\n",
       "      <td>-99.0</td>\n",
       "      <td>2.0</td>\n",
       "      <td>1.0</td>\n",
       "      <td>182.0</td>\n",
       "      <td>2.359673</td>\n",
       "      <td>45.385034</td>\n",
       "      <td>0.0</td>\n",
       "      <td>2.0</td>\n",
       "      <td>0.0</td>\n",
       "      <td>1.0</td>\n",
       "      <td>0.0</td>\n",
       "    </tr>\n",
       "    <tr>\n",
       "      <th>181687</th>\n",
       "      <td>-99.0</td>\n",
       "      <td>7.0</td>\n",
       "      <td>2.0</td>\n",
       "      <td>167.0</td>\n",
       "      <td>35.407278</td>\n",
       "      <td>35.942679</td>\n",
       "      <td>0.0</td>\n",
       "      <td>1.0</td>\n",
       "      <td>0.0</td>\n",
       "      <td>1.0</td>\n",
       "      <td>0.0</td>\n",
       "    </tr>\n",
       "    <tr>\n",
       "      <th>181688</th>\n",
       "      <td>-99.0</td>\n",
       "      <td>0.0</td>\n",
       "      <td>0.0</td>\n",
       "      <td>160.0</td>\n",
       "      <td>6.900742</td>\n",
       "      <td>124.437908</td>\n",
       "      <td>0.0</td>\n",
       "      <td>2.0</td>\n",
       "      <td>0.0</td>\n",
       "      <td>0.0</td>\n",
       "      <td>0.0</td>\n",
       "    </tr>\n",
       "    <tr>\n",
       "      <th>181689</th>\n",
       "      <td>-99.0</td>\n",
       "      <td>0.0</td>\n",
       "      <td>0.0</td>\n",
       "      <td>92.0</td>\n",
       "      <td>24.798346</td>\n",
       "      <td>93.940430</td>\n",
       "      <td>0.0</td>\n",
       "      <td>1.0</td>\n",
       "      <td>0.0</td>\n",
       "      <td>0.0</td>\n",
       "      <td>0.0</td>\n",
       "    </tr>\n",
       "    <tr>\n",
       "      <th>181690</th>\n",
       "      <td>-99.0</td>\n",
       "      <td>0.0</td>\n",
       "      <td>0.0</td>\n",
       "      <td>160.0</td>\n",
       "      <td>7.209594</td>\n",
       "      <td>124.241966</td>\n",
       "      <td>0.0</td>\n",
       "      <td>1.0</td>\n",
       "      <td>0.0</td>\n",
       "      <td>0.0</td>\n",
       "      <td>0.0</td>\n",
       "    </tr>\n",
       "  </tbody>\n",
       "</table>\n",
       "<p>114184 rows × 11 columns</p>\n",
       "</div>"
      ],
      "text/plain": [
       "        nperps  nwound  nkill  natlty1   latitude   longitude  guncertain1  \\\n",
       "67507    100.0     6.0  104.0     34.0  -3.375828   29.364107          0.0   \n",
       "67508      NaN     3.0    0.0    167.0  55.751377   37.579914          0.0   \n",
       "67509      NaN     0.0    1.0    233.0  54.607712   -5.956210          0.0   \n",
       "67510      NaN     0.0    0.0    999.0  33.303566   44.371773          0.0   \n",
       "67511      NaN     1.0    0.0     97.0  31.995965   35.271110          0.0   \n",
       "...        ...     ...    ...      ...        ...         ...          ...   \n",
       "181686   -99.0     2.0    1.0    182.0   2.359673   45.385034          0.0   \n",
       "181687   -99.0     7.0    2.0    167.0  35.407278   35.942679          0.0   \n",
       "181688   -99.0     0.0    0.0    160.0   6.900742  124.437908          0.0   \n",
       "181689   -99.0     0.0    0.0     92.0  24.798346   93.940430          0.0   \n",
       "181690   -99.0     0.0    0.0    160.0   7.209594  124.241966          0.0   \n",
       "\n",
       "        specificity  ishostkid  doubtterr  multiple  \n",
       "67507           1.0        0.0        1.0       0.0  \n",
       "67508           1.0        0.0        0.0       0.0  \n",
       "67509           1.0        0.0        0.0       0.0  \n",
       "67510           1.0        0.0        0.0       0.0  \n",
       "67511           4.0        0.0        0.0       0.0  \n",
       "...             ...        ...        ...       ...  \n",
       "181686          2.0        0.0        1.0       0.0  \n",
       "181687          1.0        0.0        1.0       0.0  \n",
       "181688          2.0        0.0        0.0       0.0  \n",
       "181689          1.0        0.0        0.0       0.0  \n",
       "181690          1.0        0.0        0.0       0.0  \n",
       "\n",
       "[114184 rows x 11 columns]"
      ]
     },
     "execution_count": 14,
     "metadata": {},
     "output_type": "execute_result"
    }
   ],
   "source": [
    "df_reduced[df_reduced.count().sort_values()[df_reduced.count().sort_values() != 114184].index]"
   ]
  },
  {
   "cell_type": "code",
   "execution_count": 15,
   "metadata": {},
   "outputs": [],
   "source": [
    "df_reduced[\"nperps\"] = df_reduced[\"nperps\"].fillna(-99)\n",
    "df_reduced[\"nwound\"] = df_reduced[\"nwound\"].fillna(-99)\n",
    "df_reduced[\"nkill\"] = df_reduced[\"nkill\"].fillna(-99)\n",
    "df_reduced[\"natlty1\"] = df_reduced[\"natlty1\"].fillna(-99)"
   ]
  },
  {
   "cell_type": "code",
   "execution_count": 16,
   "metadata": {},
   "outputs": [],
   "source": [
    "df_reduced = df_reduced.drop(df_reduced[df_reduced.longitude.isna()].index,axis=0)\n",
    "df_reduced = df_reduced.drop(df_reduced[df_reduced.guncertain1.isna()].index,axis=0)\n",
    "df_reduced = df_reduced.drop(df_reduced[df_reduced.ishostkid.isna()].index,axis=0)\n",
    "df_reduced = df_reduced.drop(df_reduced[df_reduced.doubtterr.isna()].index,axis=0)\n",
    "df_reduced = df_reduced.drop(df_reduced[df_reduced.multiple.isna()].index,axis=0)"
   ]
  },
  {
   "cell_type": "code",
   "execution_count": 17,
   "metadata": {},
   "outputs": [
    {
     "data": {
      "text/plain": [
       "iyear              112874\n",
       "imonth             112874\n",
       "iday               112874\n",
       "extended           112874\n",
       "doubtterr          112874\n",
       "multiple           112874\n",
       "country            112874\n",
       "region             112874\n",
       "latitude           112874\n",
       "longitude          112874\n",
       "specificity        112874\n",
       "attacktype1        112874\n",
       "success            112874\n",
       "suicide            112874\n",
       "weaptype1          112874\n",
       "targtype1          112874\n",
       "natlty1            112874\n",
       "guncertain1        112874\n",
       "individual         112874\n",
       "nperps             112874\n",
       "nkill              112874\n",
       "nwound             112874\n",
       "property           112874\n",
       "ishostkid          112874\n",
       "INT_LOG            112874\n",
       "INT_IDEO           112874\n",
       "INT_MISC           112874\n",
       "multitypeattack    112874\n",
       "dtype: int64"
      ]
     },
     "execution_count": 17,
     "metadata": {},
     "output_type": "execute_result"
    }
   ],
   "source": [
    "df_reduced.count()"
   ]
  },
  {
   "cell_type": "code",
   "execution_count": 18,
   "metadata": {},
   "outputs": [
    {
     "data": {
      "text/plain": [
       "(112874, 28)"
      ]
     },
     "execution_count": 18,
     "metadata": {},
     "output_type": "execute_result"
    }
   ],
   "source": [
    "df_reduced.shape"
   ]
  },
  {
   "cell_type": "code",
   "execution_count": 19,
   "metadata": {},
   "outputs": [
    {
     "data": {
      "text/plain": [
       "nkill             -0.277864\n",
       "nwound            -0.171253\n",
       "latitude          -0.075638\n",
       "suicide           -0.052701\n",
       "longitude         -0.038379\n",
       "doubtterr         -0.036306\n",
       "multiple          -0.016474\n",
       "individual        -0.013167\n",
       "iday              -0.005702\n",
       "country           -0.000358\n",
       "imonth             0.000033\n",
       "region             0.006090\n",
       "nperps             0.007327\n",
       "iyear              0.011122\n",
       "targtype1          0.015964\n",
       "natlty1            0.018302\n",
       "guncertain1        0.032002\n",
       "property           0.039994\n",
       "INT_MISC           0.042581\n",
       "specificity        0.057821\n",
       "success            0.091885\n",
       "INT_LOG            0.115690\n",
       "INT_IDEO           0.116492\n",
       "multitypeattack    0.198926\n",
       "weaptype1          0.236317\n",
       "ishostkid          0.300626\n",
       "attacktype1        0.312881\n",
       "extended           1.000000\n",
       "Name: extended, dtype: float64"
      ]
     },
     "execution_count": 19,
     "metadata": {},
     "output_type": "execute_result"
    }
   ],
   "source": [
    "df_reduced.corr()[\"extended\"].sort_values()"
   ]
  },
  {
   "cell_type": "code",
   "execution_count": 20,
   "metadata": {},
   "outputs": [],
   "source": [
    "target = df_reduced[\"extended\"]\n",
    "features = df_reduced.drop(\"extended\",axis=1)"
   ]
  },
  {
   "cell_type": "code",
   "execution_count": 21,
   "metadata": {},
   "outputs": [],
   "source": [
    "scaler = StandardScaler()\n",
    "X = scaler.fit_transform(features)\n",
    "y = np.array(target)\n",
    "y = y.reshape(-1,1)"
   ]
  },
  {
   "cell_type": "code",
   "execution_count": 22,
   "metadata": {},
   "outputs": [],
   "source": [
    "X_train, X_test, y_train, y_test = train_test_split(X, y, test_size=0.2)"
   ]
  },
  {
   "cell_type": "code",
   "execution_count": 23,
   "metadata": {},
   "outputs": [
    {
     "name": "stdout",
     "output_type": "stream",
     "text": [
      "X_train:(90299, 27) X_test:(22575, 27)\n",
      "y_train:(90299, 1) y_test:(22575, 1)\n"
     ]
    }
   ],
   "source": [
    "print(\"X_train:{} X_test:{}\\ny_train:{} y_test:{}\".format(X_train.shape,X_test.shape,y_train.shape,y_test.shape))"
   ]
  },
  {
   "cell_type": "markdown",
   "metadata": {},
   "source": [
    "## Neural Network"
   ]
  },
  {
   "cell_type": "code",
   "execution_count": 24,
   "metadata": {},
   "outputs": [],
   "source": [
    "def neural_network(n_neurons,n_output,  eta, lmbd):\n",
    "    model = Sequential()\n",
    "#     model.add(Flatten())\n",
    "    model.add(Dense(n_neurons[0], activation = \"relu\", kernel_regularizer=keras.regularizers.l2(lmbd)))\n",
    "    model.add(Dense(n_neurons[1], activation=\"relu\", kernel_regularizer=keras.regularizers.l2(lmbd)))\n",
    "    model.add(Dense(n_output, activation=\"softmax\"))\n",
    "    \n",
    "    sgd = keras.optimizers.SGD(lr=eta)\n",
    "    model.compile(optimizer=sgd,loss=\"sparse_categorical_crossentropy\",metrics=[\"accuracy\"])\n",
    "    return model"
   ]
  },
  {
   "cell_type": "markdown",
   "metadata": {},
   "source": [
    "### Neural network model 1"
   ]
  },
  {
   "cell_type": "code",
   "execution_count": 54,
   "metadata": {},
   "outputs": [
    {
     "data": {
      "application/vnd.jupyter.widget-view+json": {
       "model_id": "bd067d8894424a09ba05d669eca9f1e2",
       "version_major": 2,
       "version_minor": 0
      },
      "text/plain": [
       "HBox(children=(HTML(value=''), FloatProgress(value=0.0, max=10.0), HTML(value='')))"
      ]
     },
     "metadata": {},
     "output_type": "display_data"
    },
    {
     "data": {
      "application/vnd.jupyter.widget-view+json": {
       "model_id": "45a4150ae7c24cf5bfc283418b711606",
       "version_major": 2,
       "version_minor": 0
      },
      "text/plain": [
       "HBox(children=(HTML(value=''), FloatProgress(value=0.0, max=10.0), HTML(value='')))"
      ]
     },
     "metadata": {},
     "output_type": "display_data"
    },
    {
     "name": "stdout",
     "output_type": "stream",
     "text": [
      "\n"
     ]
    },
    {
     "data": {
      "application/vnd.jupyter.widget-view+json": {
       "model_id": "2d7375290225445b9a906f95075a99de",
       "version_major": 2,
       "version_minor": 0
      },
      "text/plain": [
       "HBox(children=(HTML(value=''), FloatProgress(value=0.0, max=10.0), HTML(value='')))"
      ]
     },
     "metadata": {},
     "output_type": "display_data"
    },
    {
     "name": "stdout",
     "output_type": "stream",
     "text": [
      "\n"
     ]
    },
    {
     "data": {
      "application/vnd.jupyter.widget-view+json": {
       "model_id": "a5d2dfe1b6cc41e2b3d6e08c76ccc506",
       "version_major": 2,
       "version_minor": 0
      },
      "text/plain": [
       "HBox(children=(HTML(value=''), FloatProgress(value=0.0, max=10.0), HTML(value='')))"
      ]
     },
     "metadata": {},
     "output_type": "display_data"
    },
    {
     "name": "stdout",
     "output_type": "stream",
     "text": [
      "\n"
     ]
    },
    {
     "data": {
      "application/vnd.jupyter.widget-view+json": {
       "model_id": "d25a61c92c1c469a9178100e45819aac",
       "version_major": 2,
       "version_minor": 0
      },
      "text/plain": [
       "HBox(children=(HTML(value=''), FloatProgress(value=0.0, max=10.0), HTML(value='')))"
      ]
     },
     "metadata": {},
     "output_type": "display_data"
    },
    {
     "name": "stdout",
     "output_type": "stream",
     "text": [
      "\n"
     ]
    },
    {
     "data": {
      "application/vnd.jupyter.widget-view+json": {
       "model_id": "87bc87da715045fc820ea02ae0be1ddc",
       "version_major": 2,
       "version_minor": 0
      },
      "text/plain": [
       "HBox(children=(HTML(value=''), FloatProgress(value=0.0, max=10.0), HTML(value='')))"
      ]
     },
     "metadata": {},
     "output_type": "display_data"
    },
    {
     "name": "stdout",
     "output_type": "stream",
     "text": [
      "\n"
     ]
    },
    {
     "data": {
      "application/vnd.jupyter.widget-view+json": {
       "model_id": "ae799823d3274c608dc0e79f53a184fb",
       "version_major": 2,
       "version_minor": 0
      },
      "text/plain": [
       "HBox(children=(HTML(value=''), FloatProgress(value=0.0, max=10.0), HTML(value='')))"
      ]
     },
     "metadata": {},
     "output_type": "display_data"
    },
    {
     "name": "stdout",
     "output_type": "stream",
     "text": [
      "\n"
     ]
    },
    {
     "data": {
      "application/vnd.jupyter.widget-view+json": {
       "model_id": "541e87ca2e9f4039ae6fa89e0155ea06",
       "version_major": 2,
       "version_minor": 0
      },
      "text/plain": [
       "HBox(children=(HTML(value=''), FloatProgress(value=0.0, max=10.0), HTML(value='')))"
      ]
     },
     "metadata": {},
     "output_type": "display_data"
    },
    {
     "name": "stdout",
     "output_type": "stream",
     "text": [
      "\n"
     ]
    },
    {
     "data": {
      "application/vnd.jupyter.widget-view+json": {
       "model_id": "a93d23be8b5d49c3a0c5f59a6d8bcf13",
       "version_major": 2,
       "version_minor": 0
      },
      "text/plain": [
       "HBox(children=(HTML(value=''), FloatProgress(value=0.0, max=10.0), HTML(value='')))"
      ]
     },
     "metadata": {},
     "output_type": "display_data"
    },
    {
     "name": "stdout",
     "output_type": "stream",
     "text": [
      "\n"
     ]
    },
    {
     "data": {
      "application/vnd.jupyter.widget-view+json": {
       "model_id": "d061e7664c0447cf869af56785d9a7ce",
       "version_major": 2,
       "version_minor": 0
      },
      "text/plain": [
       "HBox(children=(HTML(value=''), FloatProgress(value=0.0, max=10.0), HTML(value='')))"
      ]
     },
     "metadata": {},
     "output_type": "display_data"
    },
    {
     "name": "stdout",
     "output_type": "stream",
     "text": [
      "\n"
     ]
    },
    {
     "data": {
      "application/vnd.jupyter.widget-view+json": {
       "model_id": "8eb2c55724fb4050be088b41a2c497e5",
       "version_major": 2,
       "version_minor": 0
      },
      "text/plain": [
       "HBox(children=(HTML(value=''), FloatProgress(value=0.0, max=10.0), HTML(value='')))"
      ]
     },
     "metadata": {},
     "output_type": "display_data"
    },
    {
     "name": "stdout",
     "output_type": "stream",
     "text": [
      "\n",
      "\n"
     ]
    }
   ],
   "source": [
    "batch_size = 10000\n",
    "epochs = 10 \n",
    "\n",
    "eta_vals = np.logspace(-5,1,10)\n",
    "lmbd_vals = np.logspace(-5,1,9)\n",
    "lmbd_vals = np.insert(lmbd_vals,0,0)\n",
    "result = np.zeros((len(eta_vals),len(lmbd_vals)),dtype=object)\n",
    "train_accuracy = np.zeros((len(eta_vals),len(lmbd_vals)))\n",
    "test_accuracy = np.zeros((len(eta_vals),len(lmbd_vals)))\n",
    "\n",
    "for i in tqdm(range(len(eta_vals))):\n",
    "    for j in tqdm(range(len(lmbd_vals))):\n",
    "        NN = neural_network([100,50],2 , eta_vals[i], lmbd_vals[j])\n",
    "        \n",
    "        NN.fit(X_train,y_train, epochs=epochs, batch_size=batch_size,verbose=0)\n",
    "\n",
    "        train_accuracy[i][j] = NN.evaluate(X_train, y_train,verbose=0)[1]\n",
    "        test_accuracy[i][j] = NN.evaluate(X_test, y_test,verbose=0)[1]\n",
    "        \n"
   ]
  },
  {
   "cell_type": "code",
   "execution_count": 26,
   "metadata": {},
   "outputs": [
    {
     "data": {
      "text/plain": [
       "array([0.000e+00, 0.000e+00, 0.000e+00, 1.000e-03, 5.000e-03, 2.200e-02,\n",
       "       1.000e-01, 4.640e-01, 2.154e+00, 1.000e+01])"
      ]
     },
     "execution_count": 26,
     "metadata": {},
     "output_type": "execute_result"
    }
   ],
   "source": [
    "eta_vals.round(3)"
   ]
  },
  {
   "cell_type": "code",
   "execution_count": 27,
   "metadata": {},
   "outputs": [
    {
     "data": {
      "image/png": "[encoded data removed]",
      "text/plain": [
       "<Figure size 1152x576 with 2 Axes>"
      ]
     },
     "metadata": {
      "needs_background": "light"
     },
     "output_type": "display_data"
    }
   ],
   "source": [
    "plt.figure(figsize=(16,8))\n",
    "sns.heatmap(train_accuracy,\n",
    "            yticklabels=eta_vals.round(5),\n",
    "            xticklabels=lmbd_vals.round(5),\n",
    "            fmt=\".2f\",\n",
    "            annot=True)\n",
    "plt.ylabel(\"Learning rate\")\n",
    "plt.xlabel(\"Regularization parameter: lambda \")\n",
    "plt.savefig(\"Tex/Figures/NNClass1.png\")"
   ]
  },
  {
   "cell_type": "code",
   "execution_count": 52,
   "metadata": {},
   "outputs": [
    {
     "data": {
      "image/png": "[encoded data removed]",
      "text/plain": [
       "<Figure size 1152x576 with 2 Axes>"
      ]
     },
     "metadata": {
      "needs_background": "light"
     },
     "output_type": "display_data"
    }
   ],
   "source": [
    "plt.figure(figsize=(16,8))\n",
    "sns.heatmap(test_accuracy,\n",
    "            yticklabels=eta_vals.round(5),\n",
    "            xticklabels=lmbd_vals.round(5),\n",
    "            fmt=\".3f\",\n",
    "            annot=True)\n",
    "plt.ylabel(\"Learning rate\")\n",
    "plt.xlabel(\"Regularization parameter: lambda \")\n",
    "plt.savefig(\"Tex/Figures/NNClass2.png\")"
   ]
  },
  {
   "cell_type": "code",
   "execution_count": 53,
   "metadata": {},
   "outputs": [
    {
     "data": {
      "text/plain": [
       "0.9741306900978088"
      ]
     },
     "execution_count": 53,
     "metadata": {},
     "output_type": "execute_result"
    }
   ],
   "source": [
    "test_accuracy.max()"
   ]
  },
  {
   "cell_type": "markdown",
   "metadata": {},
   "source": [
    "### Neural network model 2"
   ]
  },
  {
   "cell_type": "code",
   "execution_count": 29,
   "metadata": {},
   "outputs": [],
   "source": [
    "def neural_network2(n_neurons,n_output,  eta, lmbd):\n",
    "    model = Sequential()\n",
    "#     model.add(Flatten())\n",
    "    model.add(Dense(n_neurons[0], activation = \"elu\", kernel_regularizer=keras.regularizers.l2(lmbd)))\n",
    "    model.add(Dense(n_neurons[1], activation=\"elu\", kernel_regularizer=keras.regularizers.l2(lmbd)))\n",
    "    model.add(Dense(n_output, activation=\"softmax\"))\n",
    "    \n",
    "    sgd = keras.optimizers.SGD(lr=eta)\n",
    "    model.compile(optimizer=sgd,loss=\"sparse_categorical_crossentropy\",metrics=[\"accuracy\"])\n",
    "    return model"
   ]
  },
  {
   "cell_type": "code",
   "execution_count": 30,
   "metadata": {},
   "outputs": [
    {
     "data": {
      "application/vnd.jupyter.widget-view+json": {
       "model_id": "6b3b5d29ad3c4619a3eeffecfd78d7be",
       "version_major": 2,
       "version_minor": 0
      },
      "text/plain": [
       "HBox(children=(HTML(value=''), FloatProgress(value=0.0, max=10.0), HTML(value='')))"
      ]
     },
     "metadata": {},
     "output_type": "display_data"
    },
    {
     "data": {
      "application/vnd.jupyter.widget-view+json": {
       "model_id": "bd1c07fa11074577a536af353a87ec8b",
       "version_major": 2,
       "version_minor": 0
      },
      "text/plain": [
       "HBox(children=(HTML(value=''), FloatProgress(value=0.0, max=9.0), HTML(value='')))"
      ]
     },
     "metadata": {},
     "output_type": "display_data"
    },
    {
     "name": "stdout",
     "output_type": "stream",
     "text": [
      "\n"
     ]
    },
    {
     "data": {
      "application/vnd.jupyter.widget-view+json": {
       "model_id": "c72312a03f06443e8ef8f88bbaa06002",
       "version_major": 2,
       "version_minor": 0
      },
      "text/plain": [
       "HBox(children=(HTML(value=''), FloatProgress(value=0.0, max=9.0), HTML(value='')))"
      ]
     },
     "metadata": {},
     "output_type": "display_data"
    },
    {
     "name": "stdout",
     "output_type": "stream",
     "text": [
      "\n"
     ]
    },
    {
     "data": {
      "application/vnd.jupyter.widget-view+json": {
       "model_id": "28e02fba0d5d433d9d8791435bb78fde",
       "version_major": 2,
       "version_minor": 0
      },
      "text/plain": [
       "HBox(children=(HTML(value=''), FloatProgress(value=0.0, max=9.0), HTML(value='')))"
      ]
     },
     "metadata": {},
     "output_type": "display_data"
    },
    {
     "name": "stdout",
     "output_type": "stream",
     "text": [
      "\n"
     ]
    },
    {
     "data": {
      "application/vnd.jupyter.widget-view+json": {
       "model_id": "36c0b46e668343c0a91e6ee02cf4234d",
       "version_major": 2,
       "version_minor": 0
      },
      "text/plain": [
       "HBox(children=(HTML(value=''), FloatProgress(value=0.0, max=9.0), HTML(value='')))"
      ]
     },
     "metadata": {},
     "output_type": "display_data"
    },
    {
     "name": "stdout",
     "output_type": "stream",
     "text": [
      "\n"
     ]
    },
    {
     "data": {
      "application/vnd.jupyter.widget-view+json": {
       "model_id": "93e923ac2042482e9dd613033f62545b",
       "version_major": 2,
       "version_minor": 0
      },
      "text/plain": [
       "HBox(children=(HTML(value=''), FloatProgress(value=0.0, max=9.0), HTML(value='')))"
      ]
     },
     "metadata": {},
     "output_type": "display_data"
    },
    {
     "name": "stdout",
     "output_type": "stream",
     "text": [
      "\n"
     ]
    },
    {
     "data": {
      "application/vnd.jupyter.widget-view+json": {
       "model_id": "6f8a26cdd5184b81b357cf7313c2fb9f",
       "version_major": 2,
       "version_minor": 0
      },
      "text/plain": [
       "HBox(children=(HTML(value=''), FloatProgress(value=0.0, max=9.0), HTML(value='')))"
      ]
     },
     "metadata": {},
     "output_type": "display_data"
    },
    {
     "name": "stdout",
     "output_type": "stream",
     "text": [
      "\n"
     ]
    },
    {
     "data": {
      "application/vnd.jupyter.widget-view+json": {
       "model_id": "80784e84d45b40bb9187b4a62ea75d43",
       "version_major": 2,
       "version_minor": 0
      },
      "text/plain": [
       "HBox(children=(HTML(value=''), FloatProgress(value=0.0, max=9.0), HTML(value='')))"
      ]
     },
     "metadata": {},
     "output_type": "display_data"
    },
    {
     "name": "stdout",
     "output_type": "stream",
     "text": [
      "\n"
     ]
    },
    {
     "data": {
      "application/vnd.jupyter.widget-view+json": {
       "model_id": "af2741b3e1d742c39ebc69b8728f6d0e",
       "version_major": 2,
       "version_minor": 0
      },
      "text/plain": [
       "HBox(children=(HTML(value=''), FloatProgress(value=0.0, max=9.0), HTML(value='')))"
      ]
     },
     "metadata": {},
     "output_type": "display_data"
    },
    {
     "name": "stdout",
     "output_type": "stream",
     "text": [
      "\n"
     ]
    },
    {
     "data": {
      "application/vnd.jupyter.widget-view+json": {
       "model_id": "c618bf39d9004f1ea23126ef9f7c292b",
       "version_major": 2,
       "version_minor": 0
      },
      "text/plain": [
       "HBox(children=(HTML(value=''), FloatProgress(value=0.0, max=9.0), HTML(value='')))"
      ]
     },
     "metadata": {},
     "output_type": "display_data"
    },
    {
     "name": "stdout",
     "output_type": "stream",
     "text": [
      "\n"
     ]
    },
    {
     "data": {
      "application/vnd.jupyter.widget-view+json": {
       "model_id": "8d6f48c66b5a4b60b94eb4d6e950a3d6",
       "version_major": 2,
       "version_minor": 0
      },
      "text/plain": [
       "HBox(children=(HTML(value=''), FloatProgress(value=0.0, max=9.0), HTML(value='')))"
      ]
     },
     "metadata": {},
     "output_type": "display_data"
    },
    {
     "name": "stdout",
     "output_type": "stream",
     "text": [
      "\n",
      "\n"
     ]
    }
   ],
   "source": [
    "batch_size = 10000\n",
    "epochs = 10 \n",
    "\n",
    "eta_vals = np.logspace(-5,1,10)\n",
    "lmbd_vals = np.logspace(-5,1,9)\n",
    "\n",
    "result = np.zeros((len(eta_vals),len(lmbd_vals)),dtype=object)\n",
    "train_accuracy2 = np.zeros((len(eta_vals),len(lmbd_vals)))\n",
    "test_accuracy2 = np.zeros((len(eta_vals),len(lmbd_vals)))\n",
    "\n",
    "for i in tqdm(range(len(eta_vals))):\n",
    "    for j in tqdm(range(len(lmbd_vals))):\n",
    "        NN = neural_network2([100,50],2 , eta_vals[i], lmbd_vals[j])\n",
    "        \n",
    "        NN.fit(X_train,y_train, epochs=epochs, batch_size=batch_size,verbose=0)\n",
    "\n",
    "        train_accuracy2[i][j] = NN.evaluate(X_train, y_train,verbose=0)[1]\n",
    "        test_accuracy2[i][j] = NN.evaluate(X_test, y_test,verbose=0)[1]\n",
    "        \n"
   ]
  },
  {
   "cell_type": "code",
   "execution_count": 31,
   "metadata": {},
   "outputs": [
    {
     "data": {
      "image/png": "[encoded data removed]",
      "text/plain": [
       "<Figure size 1152x576 with 2 Axes>"
      ]
     },
     "metadata": {
      "needs_background": "light"
     },
     "output_type": "display_data"
    }
   ],
   "source": [
    "plt.figure(figsize=(16,8))\n",
    "sns.heatmap(test_accuracy2,\n",
    "            yticklabels=eta_vals.round(5),\n",
    "            xticklabels=lmbd_vals.round(5),\n",
    "            fmt=\".2f\",\n",
    "            annot=True)\n",
    "plt.ylabel(\"Learning rate\")\n",
    "plt.xlabel(\"Regularization parameter: lambda \")\n",
    "plt.savefig(\"Tex/Figures/NNClass3.png\")"
   ]
  },
  {
   "cell_type": "code",
   "execution_count": 33,
   "metadata": {},
   "outputs": [
    {
     "data": {
      "text/plain": [
       "0.9735991358757019"
      ]
     },
     "execution_count": 33,
     "metadata": {},
     "output_type": "execute_result"
    }
   ],
   "source": [
    "pd.DataFrame(test_accuracy2).max().max()"
   ]
  },
  {
   "cell_type": "code",
   "execution_count": 32,
   "metadata": {},
   "outputs": [
    {
     "data": {
      "text/plain": [
       "0.9741306900978088"
      ]
     },
     "execution_count": 32,
     "metadata": {},
     "output_type": "execute_result"
    }
   ],
   "source": [
    "pd.DataFrame(test_accuracy).max().max()"
   ]
  },
  {
   "cell_type": "markdown",
   "metadata": {},
   "source": [
    "### Neural network model 3"
   ]
  },
  {
   "cell_type": "code",
   "execution_count": 34,
   "metadata": {},
   "outputs": [],
   "source": [
    "def neural_network3(n_neurons,n_output,  eta, lmbd):\n",
    "    model = Sequential()\n",
    "#     model.add(Flatten())\n",
    "    model.add(Dense(n_neurons[0], activation = \"relu\", kernel_regularizer=keras.regularizers.l2(lmbd)))\n",
    "    model.add(Dense(n_neurons[0], activation = \"relu\", kernel_regularizer=keras.regularizers.l2(lmbd)))\n",
    "    model.add(Dense(n_neurons[1], activation=\"relu\", kernel_regularizer=keras.regularizers.l2(lmbd)))\n",
    "    model.add(Dense(n_output, activation=\"softmax\"))\n",
    "    \n",
    "    sgd = keras.optimizers.SGD(lr=eta)\n",
    "    model.compile(optimizer=sgd,loss=\"sparse_categorical_crossentropy\",metrics=[\"accuracy\"])\n",
    "    return model"
   ]
  },
  {
   "cell_type": "code",
   "execution_count": 36,
   "metadata": {},
   "outputs": [
    {
     "data": {
      "application/vnd.jupyter.widget-view+json": {
       "model_id": "da4b55f4a9674c2994adbd0c0513a6e8",
       "version_major": 2,
       "version_minor": 0
      },
      "text/plain": [
       "HBox(children=(HTML(value=''), FloatProgress(value=0.0, max=10.0), HTML(value='')))"
      ]
     },
     "metadata": {},
     "output_type": "display_data"
    },
    {
     "data": {
      "application/vnd.jupyter.widget-view+json": {
       "model_id": "40d02ce96a064c158e17bc507cc9f32a",
       "version_major": 2,
       "version_minor": 0
      },
      "text/plain": [
       "HBox(children=(HTML(value=''), FloatProgress(value=0.0, max=10.0), HTML(value='')))"
      ]
     },
     "metadata": {},
     "output_type": "display_data"
    },
    {
     "name": "stdout",
     "output_type": "stream",
     "text": [
      "\n"
     ]
    },
    {
     "data": {
      "application/vnd.jupyter.widget-view+json": {
       "model_id": "2382023f95a74daaac674b390c4387ee",
       "version_major": 2,
       "version_minor": 0
      },
      "text/plain": [
       "HBox(children=(HTML(value=''), FloatProgress(value=0.0, max=10.0), HTML(value='')))"
      ]
     },
     "metadata": {},
     "output_type": "display_data"
    },
    {
     "name": "stdout",
     "output_type": "stream",
     "text": [
      "\n"
     ]
    },
    {
     "data": {
      "application/vnd.jupyter.widget-view+json": {
       "model_id": "c4cd556f6e05444c8d8d1352dfcd1487",
       "version_major": 2,
       "version_minor": 0
      },
      "text/plain": [
       "HBox(children=(HTML(value=''), FloatProgress(value=0.0, max=10.0), HTML(value='')))"
      ]
     },
     "metadata": {},
     "output_type": "display_data"
    },
    {
     "name": "stdout",
     "output_type": "stream",
     "text": [
      "\n"
     ]
    },
    {
     "data": {
      "application/vnd.jupyter.widget-view+json": {
       "model_id": "9b7b03e5e77f420c840d7e468dea45c4",
       "version_major": 2,
       "version_minor": 0
      },
      "text/plain": [
       "HBox(children=(HTML(value=''), FloatProgress(value=0.0, max=10.0), HTML(value='')))"
      ]
     },
     "metadata": {},
     "output_type": "display_data"
    },
    {
     "name": "stdout",
     "output_type": "stream",
     "text": [
      "\n"
     ]
    },
    {
     "data": {
      "application/vnd.jupyter.widget-view+json": {
       "model_id": "5db12d874fc948d0b2374666d0f97bb6",
       "version_major": 2,
       "version_minor": 0
      },
      "text/plain": [
       "HBox(children=(HTML(value=''), FloatProgress(value=0.0, max=10.0), HTML(value='')))"
      ]
     },
     "metadata": {},
     "output_type": "display_data"
    },
    {
     "name": "stdout",
     "output_type": "stream",
     "text": [
      "\n"
     ]
    },
    {
     "data": {
      "application/vnd.jupyter.widget-view+json": {
       "model_id": "2214de9deee442989ed4471cc1d5e4b7",
       "version_major": 2,
       "version_minor": 0
      },
      "text/plain": [
       "HBox(children=(HTML(value=''), FloatProgress(value=0.0, max=10.0), HTML(value='')))"
      ]
     },
     "metadata": {},
     "output_type": "display_data"
    },
    {
     "name": "stdout",
     "output_type": "stream",
     "text": [
      "\n"
     ]
    },
    {
     "data": {
      "application/vnd.jupyter.widget-view+json": {
       "model_id": "318601a970f746b08ae1bbd2581ec1ef",
       "version_major": 2,
       "version_minor": 0
      },
      "text/plain": [
       "HBox(children=(HTML(value=''), FloatProgress(value=0.0, max=10.0), HTML(value='')))"
      ]
     },
     "metadata": {},
     "output_type": "display_data"
    },
    {
     "name": "stdout",
     "output_type": "stream",
     "text": [
      "\n"
     ]
    },
    {
     "data": {
      "application/vnd.jupyter.widget-view+json": {
       "model_id": "228a2003bbda4fcdb51f4b87bdb0dfab",
       "version_major": 2,
       "version_minor": 0
      },
      "text/plain": [
       "HBox(children=(HTML(value=''), FloatProgress(value=0.0, max=10.0), HTML(value='')))"
      ]
     },
     "metadata": {},
     "output_type": "display_data"
    },
    {
     "name": "stdout",
     "output_type": "stream",
     "text": [
      "\n"
     ]
    },
    {
     "data": {
      "application/vnd.jupyter.widget-view+json": {
       "model_id": "61b67062604d4eac8659c55e5c023f8b",
       "version_major": 2,
       "version_minor": 0
      },
      "text/plain": [
       "HBox(children=(HTML(value=''), FloatProgress(value=0.0, max=10.0), HTML(value='')))"
      ]
     },
     "metadata": {},
     "output_type": "display_data"
    },
    {
     "name": "stdout",
     "output_type": "stream",
     "text": [
      "\n"
     ]
    },
    {
     "data": {
      "application/vnd.jupyter.widget-view+json": {
       "model_id": "60f9f3ae6bcf48bcbe82f13f89cb63a6",
       "version_major": 2,
       "version_minor": 0
      },
      "text/plain": [
       "HBox(children=(HTML(value=''), FloatProgress(value=0.0, max=10.0), HTML(value='')))"
      ]
     },
     "metadata": {},
     "output_type": "display_data"
    },
    {
     "name": "stdout",
     "output_type": "stream",
     "text": [
      "\n",
      "\n"
     ]
    }
   ],
   "source": [
    "batch_size = 5000\n",
    "epochs = 20 \n",
    "\n",
    "eta_vals = np.logspace(-5,1,10)\n",
    "lmbd_vals = np.logspace(-5,1,9)\n",
    "lmbd_vals = np.insert(lmbd_vals,0,0)\n",
    "\n",
    "train_accuracy3 = np.zeros((len(eta_vals),len(lmbd_vals)))\n",
    "test_accuracy3 = np.zeros((len(eta_vals),len(lmbd_vals)))\n",
    "\n",
    "for i in tqdm(range(len(eta_vals))):\n",
    "    for j in tqdm(range(len(lmbd_vals))):\n",
    "        NN = neural_network3([250,100,50],2 , eta_vals[i], lmbd_vals[j])\n",
    "        \n",
    "        NN.fit(X_train,y_train, epochs=epochs, batch_size=batch_size,verbose=0)\n",
    "\n",
    "#         train_accuracy3[i][j] = NN.evaluate(X_train, y_train,verbose=0)[1]\n",
    "        test_accuracy3[i][j] = NN.evaluate(X_test, y_test,verbose=0)[1]\n",
    "        \n"
   ]
  },
  {
   "cell_type": "code",
   "execution_count": 48,
   "metadata": {},
   "outputs": [
    {
     "data": {
      "image/png": "[encoded data removed]",
      "text/plain": [
       "<Figure size 1152x576 with 2 Axes>"
      ]
     },
     "metadata": {
      "needs_background": "light"
     },
     "output_type": "display_data"
    }
   ],
   "source": [
    "plt.figure(figsize=(16,8))\n",
    "sns.heatmap(test_accuracy3,\n",
    "            yticklabels=eta_vals.round(5),\n",
    "            xticklabels=lmbd_vals.round(5),\n",
    "            fmt=\".3f\",\n",
    "            annot=True)\n",
    "plt.ylabel(\"Learning rate\")\n",
    "plt.xlabel(\"Regularization parameter: lambda \")\n",
    "plt.savefig(\"Tex/Figures/NNClass4.png\")"
   ]
  },
  {
   "cell_type": "code",
   "execution_count": 47,
   "metadata": {},
   "outputs": [
    {
     "data": {
      "text/plain": [
       "0.9756367802619934"
      ]
     },
     "execution_count": 47,
     "metadata": {},
     "output_type": "execute_result"
    }
   ],
   "source": [
    "test_accuracy3.max().max()"
   ]
  },
  {
   "cell_type": "markdown",
   "metadata": {},
   "source": [
    "### Neural network model 4"
   ]
  },
  {
   "cell_type": "code",
   "execution_count": 40,
   "metadata": {},
   "outputs": [],
   "source": [
    "def neural_network4(n_neurons,n_output,  eta, lmbd):\n",
    "    model = Sequential()\n",
    "#     model.add(Flatten())\n",
    "    model.add(Dense(n_neurons[0], activation = \"elu\", kernel_regularizer=keras.regularizers.l2(lmbd)))\n",
    "    model.add(Dense(n_neurons[0], activation = \"elu\", kernel_regularizer=keras.regularizers.l2(lmbd)))\n",
    "    model.add(Dense(n_neurons[1], activation=\"elu\", kernel_regularizer=keras.regularizers.l2(lmbd)))\n",
    "    model.add(Dense(n_output, activation=\"softmax\"))\n",
    "    \n",
    "    sgd = keras.optimizers.SGD(lr=eta)\n",
    "    model.compile(optimizer=sgd,loss=\"sparse_categorical_crossentropy\",metrics=[\"accuracy\"])\n",
    "    return model"
   ]
  },
  {
   "cell_type": "code",
   "execution_count": 41,
   "metadata": {},
   "outputs": [
    {
     "data": {
      "application/vnd.jupyter.widget-view+json": {
       "model_id": "d2d548862602408b8ee892f50a159145",
       "version_major": 2,
       "version_minor": 0
      },
      "text/plain": [
       "HBox(children=(HTML(value=''), FloatProgress(value=0.0, max=10.0), HTML(value='')))"
      ]
     },
     "metadata": {},
     "output_type": "display_data"
    },
    {
     "data": {
      "application/vnd.jupyter.widget-view+json": {
       "model_id": "145bf0cdf3fe4958bb95be5cd0b5dd06",
       "version_major": 2,
       "version_minor": 0
      },
      "text/plain": [
       "HBox(children=(HTML(value=''), FloatProgress(value=0.0, max=10.0), HTML(value='')))"
      ]
     },
     "metadata": {},
     "output_type": "display_data"
    },
    {
     "name": "stdout",
     "output_type": "stream",
     "text": [
      "\n"
     ]
    },
    {
     "data": {
      "application/vnd.jupyter.widget-view+json": {
       "model_id": "feb82785e11846498cd6740ed32f4a5c",
       "version_major": 2,
       "version_minor": 0
      },
      "text/plain": [
       "HBox(children=(HTML(value=''), FloatProgress(value=0.0, max=10.0), HTML(value='')))"
      ]
     },
     "metadata": {},
     "output_type": "display_data"
    },
    {
     "name": "stdout",
     "output_type": "stream",
     "text": [
      "\n"
     ]
    },
    {
     "data": {
      "application/vnd.jupyter.widget-view+json": {
       "model_id": "ca67b3513f084d89a4417479aca8ac32",
       "version_major": 2,
       "version_minor": 0
      },
      "text/plain": [
       "HBox(children=(HTML(value=''), FloatProgress(value=0.0, max=10.0), HTML(value='')))"
      ]
     },
     "metadata": {},
     "output_type": "display_data"
    },
    {
     "name": "stdout",
     "output_type": "stream",
     "text": [
      "\n"
     ]
    },
    {
     "data": {
      "application/vnd.jupyter.widget-view+json": {
       "model_id": "42e63961c63f4b1daee8d4e739f9e309",
       "version_major": 2,
       "version_minor": 0
      },
      "text/plain": [
       "HBox(children=(HTML(value=''), FloatProgress(value=0.0, max=10.0), HTML(value='')))"
      ]
     },
     "metadata": {},
     "output_type": "display_data"
    },
    {
     "name": "stdout",
     "output_type": "stream",
     "text": [
      "\n"
     ]
    },
    {
     "data": {
      "application/vnd.jupyter.widget-view+json": {
       "model_id": "b66c38c9c4bf4ee39b830757051da9e2",
       "version_major": 2,
       "version_minor": 0
      },
      "text/plain": [
       "HBox(children=(HTML(value=''), FloatProgress(value=0.0, max=10.0), HTML(value='')))"
      ]
     },
     "metadata": {},
     "output_type": "display_data"
    },
    {
     "name": "stdout",
     "output_type": "stream",
     "text": [
      "\n"
     ]
    },
    {
     "data": {
      "application/vnd.jupyter.widget-view+json": {
       "model_id": "67808a32188b400f9d7b323999fc5808",
       "version_major": 2,
       "version_minor": 0
      },
      "text/plain": [
       "HBox(children=(HTML(value=''), FloatProgress(value=0.0, max=10.0), HTML(value='')))"
      ]
     },
     "metadata": {},
     "output_type": "display_data"
    },
    {
     "name": "stdout",
     "output_type": "stream",
     "text": [
      "\n"
     ]
    },
    {
     "data": {
      "application/vnd.jupyter.widget-view+json": {
       "model_id": "8999d773cd1641f18eb15d7f41e07123",
       "version_major": 2,
       "version_minor": 0
      },
      "text/plain": [
       "HBox(children=(HTML(value=''), FloatProgress(value=0.0, max=10.0), HTML(value='')))"
      ]
     },
     "metadata": {},
     "output_type": "display_data"
    },
    {
     "name": "stdout",
     "output_type": "stream",
     "text": [
      "\n"
     ]
    },
    {
     "data": {
      "application/vnd.jupyter.widget-view+json": {
       "model_id": "c0693329aa9743ebb73f6b5b377f18f4",
       "version_major": 2,
       "version_minor": 0
      },
      "text/plain": [
       "HBox(children=(HTML(value=''), FloatProgress(value=0.0, max=10.0), HTML(value='')))"
      ]
     },
     "metadata": {},
     "output_type": "display_data"
    },
    {
     "name": "stdout",
     "output_type": "stream",
     "text": [
      "\n"
     ]
    },
    {
     "data": {
      "application/vnd.jupyter.widget-view+json": {
       "model_id": "94f12fb220104707b6d9f7eab2581caa",
       "version_major": 2,
       "version_minor": 0
      },
      "text/plain": [
       "HBox(children=(HTML(value=''), FloatProgress(value=0.0, max=10.0), HTML(value='')))"
      ]
     },
     "metadata": {},
     "output_type": "display_data"
    },
    {
     "name": "stdout",
     "output_type": "stream",
     "text": [
      "\n"
     ]
    },
    {
     "data": {
      "application/vnd.jupyter.widget-view+json": {
       "model_id": "7ae73bbf035243ed8b18a212e8b97601",
       "version_major": 2,
       "version_minor": 0
      },
      "text/plain": [
       "HBox(children=(HTML(value=''), FloatProgress(value=0.0, max=10.0), HTML(value='')))"
      ]
     },
     "metadata": {},
     "output_type": "display_data"
    },
    {
     "name": "stdout",
     "output_type": "stream",
     "text": [
      "\n",
      "\n"
     ]
    }
   ],
   "source": [
    "batch_size = 5000\n",
    "epochs = 20 \n",
    "\n",
    "eta_vals = np.logspace(-5,1,10)\n",
    "lmbd_vals = np.logspace(-5,1,9)\n",
    "lmbd_vals = np.insert(lmbd_vals,0,0)\n",
    "\n",
    "train_accuracy4 = np.zeros((len(eta_vals),len(lmbd_vals)))\n",
    "test_accuracy4 = np.zeros((len(eta_vals),len(lmbd_vals)))\n",
    "\n",
    "for i in tqdm(range(len(eta_vals))):\n",
    "    for j in tqdm(range(len(lmbd_vals))):\n",
    "        NN = neural_network4([250,100,50],2 , eta_vals[i], lmbd_vals[j])\n",
    "        \n",
    "        NN.fit(X_train,y_train, epochs=epochs, batch_size=batch_size,verbose=0)\n",
    "\n",
    "#         train_accuracy3[i][j] = NN.evaluate(X_train, y_train,verbose=0)[1]\n",
    "        test_accuracy4[i][j] = NN.evaluate(X_test, y_test,verbose=0)[1]\n",
    "        \n"
   ]
  },
  {
   "cell_type": "code",
   "execution_count": 57,
   "metadata": {},
   "outputs": [
    {
     "data": {
      "image/png": "[encoded data removed]",
      "text/plain": [
       "<Figure size 1152x576 with 2 Axes>"
      ]
     },
     "metadata": {
      "needs_background": "light"
     },
     "output_type": "display_data"
    }
   ],
   "source": [
    "plt.figure(figsize=(16,8))\n",
    "sns.heatmap(test_accuracy4,\n",
    "            yticklabels=eta_vals.round(3),\n",
    "            xticklabels=lmbd_vals.round(5),\n",
    "            fmt=\".2f\",\n",
    "            annot=True)\n",
    "plt.ylabel(\"Learning rate\")\n",
    "plt.xlabel(\"Regularization parameter: lambda \")\n",
    "plt.savefig(\"Tex/Figures/NNClass5.png\")"
   ]
  },
  {
   "cell_type": "code",
   "execution_count": 46,
   "metadata": {},
   "outputs": [
    {
     "name": "stdout",
     "output_type": "stream",
     "text": [
      "0.9741306900978088\n",
      "0.9735991358757019\n",
      "0.9756367802619934\n",
      "0.974750816822052\n"
     ]
    }
   ],
   "source": [
    "print(test_accuracy.max())\n",
    "print(test_accuracy2.max())\n",
    "print(test_accuracy3.max())\n",
    "print(test_accuracy4.max())"
   ]
  },
  {
   "cell_type": "code",
   "execution_count": null,
   "metadata": {},
   "outputs": [],
   "source": [
    "l = []\n",
    "l2 = [test_accuracy,test_accuracy2,test_accuracy3,test_accuracy4]\n",
    "for i in l2:\n",
    "    "
   ]
  },
  {
   "cell_type": "code",
   "execution_count": 66,
   "metadata": {},
   "outputs": [],
   "source": [
    "min_ = pd.DataFrame([test_accuracy.min(),test_accuracy2.min(),test_accuracy3.min(),test_accuracy4.min()], columns=[\"min\"])\n",
    "max_ = pd.DataFrame([test_accuracy.max(),test_accuracy2.max(),test_accuracy3.max(),test_accuracy4.max()], columns=[\"max\"])\n",
    "mean_ = pd.DataFrame([test_accuracy.mean(),test_accuracy2.mean(),test_accuracy3.mean(),test_accuracy4.mean()], columns=[\"mean\"])"
   ]
  },
  {
   "cell_type": "code",
   "execution_count": 76,
   "metadata": {},
   "outputs": [
    {
     "data": {
      "text/html": [
       "<div>\n",
       "<style scoped>\n",
       "    .dataframe tbody tr th:only-of-type {\n",
       "        vertical-align: middle;\n",
       "    }\n",
       "\n",
       "    .dataframe tbody tr th {\n",
       "        vertical-align: top;\n",
       "    }\n",
       "\n",
       "    .dataframe thead th {\n",
       "        text-align: right;\n",
       "    }\n",
       "</style>\n",
       "<table border=\"1\" class=\"dataframe\">\n",
       "  <thead>\n",
       "    <tr style=\"text-align: right;\">\n",
       "      <th></th>\n",
       "      <th>min</th>\n",
       "      <th>max</th>\n",
       "      <th>mean</th>\n",
       "    </tr>\n",
       "  </thead>\n",
       "  <tbody>\n",
       "    <tr>\n",
       "      <th>1</th>\n",
       "      <td>0.100687</td>\n",
       "      <td>0.974042</td>\n",
       "      <td>0.817498</td>\n",
       "    </tr>\n",
       "    <tr>\n",
       "      <th>2</th>\n",
       "      <td>0.336390</td>\n",
       "      <td>0.973599</td>\n",
       "      <td>0.801378</td>\n",
       "    </tr>\n",
       "    <tr>\n",
       "      <th>3</th>\n",
       "      <td>0.068793</td>\n",
       "      <td>0.975637</td>\n",
       "      <td>0.874774</td>\n",
       "    </tr>\n",
       "    <tr>\n",
       "      <th>4</th>\n",
       "      <td>0.453200</td>\n",
       "      <td>0.974751</td>\n",
       "      <td>0.860120</td>\n",
       "    </tr>\n",
       "  </tbody>\n",
       "</table>\n",
       "</div>"
      ],
      "text/plain": [
       "        min       max      mean\n",
       "1  0.100687  0.974042  0.817498\n",
       "2  0.336390  0.973599  0.801378\n",
       "3  0.068793  0.975637  0.874774\n",
       "4  0.453200  0.974751  0.860120"
      ]
     },
     "execution_count": 76,
     "metadata": {},
     "output_type": "execute_result"
    }
   ],
   "source": [
    "df = pd.concat([min_,max_,mean_],axis=1)\n",
    "df.index = df.index +1\n",
    "df"
   ]
  },
  {
   "cell_type": "code",
   "execution_count": 78,
   "metadata": {},
   "outputs": [],
   "source": [
    "dfi.export(df,\"Tex/Figures/NNmodels.png\")"
   ]
  },
  {
   "cell_type": "markdown",
   "metadata": {},
   "source": [
    "## Suport Vector Machines Classification"
   ]
  },
  {
   "cell_type": "code",
   "execution_count": 81,
   "metadata": {},
   "outputs": [
    {
     "data": {
      "application/vnd.jupyter.widget-view+json": {
       "model_id": "1ddc716cd9c54e4d8570b2e3588f4562",
       "version_major": 2,
       "version_minor": 0
      },
      "text/plain": [
       "HBox(children=(HTML(value=''), FloatProgress(value=0.0, max=10.0), HTML(value='')))"
      ]
     },
     "metadata": {},
     "output_type": "display_data"
    },
    {
     "name": "stdout",
     "output_type": "stream",
     "text": [
      "\n"
     ]
    }
   ],
   "source": [
    "svm1_result = np.zeros((len(eta_vals),len(lmbd_vals)))\n",
    "for i in tqdm(range(len(eta_vals))):\n",
    "    for j in range(len(lmbd_vals)):\n",
    "        \n",
    "        svm = SGDClassifier(loss=\"hinge\",learning_rate=\"constant\", eta0=eta_vals[i],alpha=lmbd_vals[j])\n",
    "        svm.fit(X_train,y_train.ravel())\n",
    "        svm1_result[i][j] = svm.score(X_test,y_test.ravel())"
   ]
  },
  {
   "cell_type": "code",
   "execution_count": 82,
   "metadata": {},
   "outputs": [
    {
     "data": {
      "image/png": "[encoded data removed]",
      "text/plain": [
       "<Figure size 1152x576 with 2 Axes>"
      ]
     },
     "metadata": {
      "needs_background": "light"
     },
     "output_type": "display_data"
    }
   ],
   "source": [
    "plt.figure(figsize=(16,8))\n",
    "sns.heatmap(svm1_result,\n",
    "            yticklabels=eta_vals.round(3),\n",
    "            xticklabels=lmbd_vals.round(5),\n",
    "            fmt=\".2f\",\n",
    "            annot=True)\n",
    "plt.ylabel(\"Learning rate\")\n",
    "plt.xlabel(\"Regularization parameter: lambda \")\n",
    "plt.savefig(\"Tex/Figures/SGDClass.png\")"
   ]
  },
  {
   "cell_type": "code",
   "execution_count": 83,
   "metadata": {},
   "outputs": [
    {
     "data": {
      "text/plain": [
       "0.9724031007751938"
      ]
     },
     "execution_count": 83,
     "metadata": {},
     "output_type": "execute_result"
    }
   ],
   "source": [
    "svm1_result.max()"
   ]
  },
  {
   "cell_type": "code",
   "execution_count": 57,
   "metadata": {},
   "outputs": [
    {
     "data": {
      "application/vnd.jupyter.widget-view+json": {
       "model_id": "182d10430f8f44769a94208c028e1334",
       "version_major": 2,
       "version_minor": 0
      },
      "text/plain": [
       "HBox(children=(HTML(value=''), FloatProgress(value=0.0, max=10.0), HTML(value='')))"
      ]
     },
     "metadata": {},
     "output_type": "display_data"
    },
    {
     "name": "stderr",
     "output_type": "stream",
     "text": [
      "c:\\python38\\lib\\site-packages\\sklearn\\svm\\_base.py:976: ConvergenceWarning: Liblinear failed to converge, increase the number of iterations.\n",
      "  warnings.warn(\"Liblinear failed to converge, increase \"\n",
      "c:\\python38\\lib\\site-packages\\sklearn\\svm\\_base.py:976: ConvergenceWarning: Liblinear failed to converge, increase the number of iterations.\n",
      "  warnings.warn(\"Liblinear failed to converge, increase \"\n",
      "c:\\python38\\lib\\site-packages\\sklearn\\svm\\_base.py:976: ConvergenceWarning: Liblinear failed to converge, increase the number of iterations.\n",
      "  warnings.warn(\"Liblinear failed to converge, increase \"\n",
      "c:\\python38\\lib\\site-packages\\sklearn\\svm\\_base.py:976: ConvergenceWarning: Liblinear failed to converge, increase the number of iterations.\n",
      "  warnings.warn(\"Liblinear failed to converge, increase \"\n",
      "c:\\python38\\lib\\site-packages\\sklearn\\svm\\_base.py:976: ConvergenceWarning: Liblinear failed to converge, increase the number of iterations.\n",
      "  warnings.warn(\"Liblinear failed to converge, increase \"\n",
      "c:\\python38\\lib\\site-packages\\sklearn\\svm\\_base.py:976: ConvergenceWarning: Liblinear failed to converge, increase the number of iterations.\n",
      "  warnings.warn(\"Liblinear failed to converge, increase \"\n",
      "c:\\python38\\lib\\site-packages\\sklearn\\svm\\_base.py:976: ConvergenceWarning: Liblinear failed to converge, increase the number of iterations.\n",
      "  warnings.warn(\"Liblinear failed to converge, increase \"\n",
      "c:\\python38\\lib\\site-packages\\sklearn\\svm\\_base.py:976: ConvergenceWarning: Liblinear failed to converge, increase the number of iterations.\n",
      "  warnings.warn(\"Liblinear failed to converge, increase \"\n"
     ]
    },
    {
     "name": "stdout",
     "output_type": "stream",
     "text": [
      "\n"
     ]
    },
    {
     "name": "stderr",
     "output_type": "stream",
     "text": [
      "c:\\python38\\lib\\site-packages\\sklearn\\svm\\_base.py:976: ConvergenceWarning: Liblinear failed to converge, increase the number of iterations.\n",
      "  warnings.warn(\"Liblinear failed to converge, increase \"\n"
     ]
    }
   ],
   "source": [
    "C_vals = np.linspace(0.1,2,10)\n",
    "svm2_results = np.zeros(len(C_vals))\n",
    "i=0\n",
    "for c in tqdm(C_vals):\n",
    "    svm = LinearSVC(C=c, loss=\"hinge\",max_iter=2000)\n",
    "    svm.fit(X_train,y_train.ravel())\n",
    "    svm2_results[i] = svm.score(X_test,y_test.ravel())\n",
    "    \n",
    "    i += 1 "
   ]
  },
  {
   "cell_type": "code",
   "execution_count": 59,
   "metadata": {},
   "outputs": [
    {
     "data": {
      "image/png": "[encoded data removed]",
      "text/plain": [
       "<Figure size 432x288 with 1 Axes>"
      ]
     },
     "metadata": {
      "needs_background": "light"
     },
     "output_type": "display_data"
    }
   ],
   "source": [
    "plt.plot(C_vals,svm2_results)\n",
    "plt.xlabel(\"Regularization parameter: C\")\n",
    "plt.ylabel(\"Accuracy score\")\n",
    "plt.savefig(\"Tex/Figures/LinearSVC.png\")"
   ]
  },
  {
   "cell_type": "code",
   "execution_count": 60,
   "metadata": {},
   "outputs": [
    {
     "data": {
      "text/plain": [
       "array([0.97165006, 0.97165006, 0.97165006, 0.97165006, 0.97165006,\n",
       "       0.97165006, 0.97165006, 0.97165006, 0.97165006, 0.97165006])"
      ]
     },
     "execution_count": 60,
     "metadata": {},
     "output_type": "execute_result"
    }
   ],
   "source": [
    "svm2_results"
   ]
  },
  {
   "cell_type": "code",
   "execution_count": null,
   "metadata": {},
   "outputs": [
    {
     "data": {
      "application/vnd.jupyter.widget-view+json": {
       "model_id": "32d6121fb0ab4338a2121420d17b8fa8",
       "version_major": 2,
       "version_minor": 0
      },
      "text/plain": [
       "HBox(children=(HTML(value=''), FloatProgress(value=0.0, max=10.0), HTML(value='')))"
      ]
     },
     "metadata": {},
     "output_type": "display_data"
    },
    {
     "data": {
      "application/vnd.jupyter.widget-view+json": {
       "model_id": "a35e5bab8fbb461a81438ff4da4fd6c3",
       "version_major": 2,
       "version_minor": 0
      },
      "text/plain": [
       "HBox(children=(HTML(value=''), FloatProgress(value=0.0, max=10.0), HTML(value='')))"
      ]
     },
     "metadata": {},
     "output_type": "display_data"
    },
    {
     "name": "stdout",
     "output_type": "stream",
     "text": [
      "[LibSVM][LibSVM][LibSVM][LibSVM][LibSVM][LibSVM][LibSVM][LibSVM][LibSVM][LibSVM]\n"
     ]
    },
    {
     "data": {
      "application/vnd.jupyter.widget-view+json": {
       "model_id": "27da86735c62490fb3153ecaec9dd228",
       "version_major": 2,
       "version_minor": 0
      },
      "text/plain": [
       "HBox(children=(HTML(value=''), FloatProgress(value=0.0, max=10.0), HTML(value='')))"
      ]
     },
     "metadata": {},
     "output_type": "display_data"
    },
    {
     "name": "stdout",
     "output_type": "stream",
     "text": [
      "[LibSVM][LibSVM][LibSVM][LibSVM][LibSVM][LibSVM][LibSVM]"
     ]
    }
   ],
   "source": [
    "C_vals = np.linspace(0.01,5,10)\n",
    "gamma_vals = np.linspace(0.01,5,10)\n",
    "\n",
    "svm3_results = np.zeros((len(C_vals),len(gamma_vals)))\n",
    "X_train_ = X_train[:len(X_train)//2]\n",
    "y_train_ = y_train[:len(X_train)//2]\n",
    "for i in tqdm(range(len(C_vals))):\n",
    "    for j in tqdm(range(len(gamma_vals))):\n",
    "        \n",
    "        svm3 = SVC(kernel=\"linear\",gamma=gamma_vals[j], C=C_vals[i],verbose=1)\n",
    "        svm3.fit(X_train,y_train.ravel())\n",
    "        svm3_results[i][j] = svm3.score(X_test,y_test.ravel())"
   ]
  },
  {
   "cell_type": "code",
   "execution_count": null,
   "metadata": {},
   "outputs": [],
   "source": []
  }
 ],
 "metadata": {
  "kernelspec": {
   "display_name": "local-venv",
   "language": "python",
   "name": "local-venv"
  },
  "language_info": {
   "codemirror_mode": {
    "name": "ipython",
    "version": 3
   },
   "file_extension": ".py",
   "mimetype": "text/x-python",
   "name": "python",
   "nbconvert_exporter": "python",
   "pygments_lexer": "ipython3",
   "version": "3.8.6"
  }
 },
 "nbformat": 4,
 "nbformat_minor": 4
}
